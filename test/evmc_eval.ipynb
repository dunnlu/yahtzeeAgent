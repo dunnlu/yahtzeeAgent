{
 "cells": [
  {
   "cell_type": "code",
   "execution_count": 1,
   "metadata": {},
   "outputs": [],
   "source": [
    "import game_module as game_module # Make sure this matches the name of your module\n",
    "import random\n",
    "import pickle\n",
    "from evmc import evmc_agent"
   ]
  },
  {
   "cell_type": "code",
   "execution_count": 6,
   "metadata": {},
   "outputs": [],
   "source": [
    "print_dict = {-1: \"Reroll\", \n",
    "              0: \"Aces\",\n",
    "              1: \"Twos\",\n",
    "              2: \"Threes\",\n",
    "              3: \"Fours\",\n",
    "              4: \"Fives\",\n",
    "              5: \"Sixes\",\n",
    "              6: \"Three of a Kind\",\n",
    "              7: \"Four of a Kind\",\n",
    "              8: \"Full House\",\n",
    "              9: \"Small Straight\",\n",
    "              10: \"Large Straight\",\n",
    "              11: \"Yahtzee\",\n",
    "              12: \"Chance\"}"
   ]
  },
  {
   "cell_type": "code",
   "execution_count": 2,
   "metadata": {},
   "outputs": [],
   "source": [
    "agent = evmc_agent()\n",
    "agent.q_table = {}\n",
    "with open(\"your_q_table_name_here.pkl\", \"rb\") as f:\n",
    "    agent.q_table = pickle.load(f)\n"
   ]
  },
  {
   "cell_type": "code",
   "execution_count": null,
   "metadata": {},
   "outputs": [],
   "source": [
    "game = game_module.Game() \n",
    "state  = game.reset()\n",
    "\n",
    "bottom_only_state = state[0:5] + [2,1,1,1,1,1,1,0,0,0,0,0,0,0]\n",
    "state = bottom_only_state\n",
    "game.goToState(bottom_only_state)\n",
    "\n",
    "\n",
    "is_terminal = False\n",
    "total_score = 0\n",
    "\n",
    "while is_terminal == False:\n",
    "    action = agent.get_epsilon_greedy_action(state)\n",
    "    next_state, reward, is_terminal = game.step(action)\n",
    "    #pretty print a scoresheet and the dice\n",
    "    print(\"------------------\")\n",
    "    print(f\"Aces:            {state[6]}\")\n",
    "    print(f\"Twos:            {state[7]}\")\n",
    "    print(f\"Threes:          {state[8]}\")\n",
    "    print(f\"Fours:           {state[9]}\")\n",
    "    print(f\"Fives:           {state[10]}\")\n",
    "    print(f\"Sixes:           {state[11]}\")\n",
    "    print(f\"3 of a kind:     {state[12]}\")\n",
    "    print(f\"4 of a kind:     {state[13]}\")\n",
    "    print(f\"Full House:      {state[14]}\")\n",
    "    print(f\"Small Straight:  {state[15]}\")\n",
    "    print(f\"Large Straight:  {state[16]}\")\n",
    "    print(f\"Yahtzee:         {state[17]}\")\n",
    "    print(f\"Chance:          {state[18]}\")\n",
    "    print(f\"Rolls Remaining: {state[5]}\")\n",
    "    print(f\"Dice:            {state[0:5]}\")\n",
    "    print(\"\\n\")\n",
    "    print(f\"Action:          {action[:5]} {print_dict[action[5]]}\")\n",
    "    print(f\"Reward:          {reward}\")\n",
    "    total_score += reward\n",
    "    state = next_state\n",
    "print(f\"Total Score: {total_score}\")"
   ]
  },
  {
   "cell_type": "code",
   "execution_count": 21,
   "metadata": {},
   "outputs": [
    {
     "name": "stdout",
     "output_type": "stream",
     "text": [
      "Average Exploit Score: 64.0\n"
     ]
    }
   ],
   "source": [
    "\n",
    "exploit_final_scores = []\n",
    "agent.epsilon = 0\n",
    "\n",
    "for _ in range(100):\n",
    "    game = game_module.Game() \n",
    "    state  = game.reset()\n",
    "    is_terminal = False\n",
    "    total_score = 0\n",
    "\n",
    "    while is_terminal == False:\n",
    "        action = agent.get_epsilon_greedy_action(state)\n",
    "        next_state, reward, is_terminal = game.step(action)\n",
    "        total_score += reward\n",
    "        state = next_state\n",
    "    exploit_final_scores.append(total_score)\n",
    "avg_exploit_score = sum(exploit_final_scores) / len(exploit_final_scores)\n",
    "print(f\"Average Exploit Score: {avg_exploit_score}\")\n",
    "\n",
    "\n",
    "\n"
   ]
  },
  {
   "cell_type": "code",
   "execution_count": 22,
   "metadata": {},
   "outputs": [
    {
     "name": "stdout",
     "output_type": "stream",
     "text": [
      "Average explore Score: 24.73\n"
     ]
    }
   ],
   "source": [
    "explore_final_scores = []\n",
    "agent.epsilon = 1\n",
    "\n",
    "for _ in range(100):\n",
    "    game = game_module.Game() \n",
    "    state  = game.reset()\n",
    "    is_terminal = False\n",
    "    total_score = 0\n",
    "\n",
    "    while is_terminal == False:\n",
    "        action = agent.get_epsilon_greedy_action(state)\n",
    "        next_state, reward, is_terminal = game.step(action)\n",
    "        total_score += reward\n",
    "        state = next_state\n",
    "    explore_final_scores.append(total_score)\n",
    "avg_explore_score = sum(explore_final_scores) / len(explore_final_scores)\n",
    "print(f\"Average explore Score: {avg_explore_score}\")"
   ]
  }
 ],
 "metadata": {
  "kernelspec": {
   "display_name": "Python 3",
   "language": "python",
   "name": "python3"
  },
  "language_info": {
   "codemirror_mode": {
    "name": "ipython",
    "version": 3
   },
   "file_extension": ".py",
   "mimetype": "text/x-python",
   "name": "python",
   "nbconvert_exporter": "python",
   "pygments_lexer": "ipython3",
   "version": "3.9.18"
  }
 },
 "nbformat": 4,
 "nbformat_minor": 2
}
